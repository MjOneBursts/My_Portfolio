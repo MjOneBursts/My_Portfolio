{
 "cells": [
  {
   "cell_type": "code",
   "execution_count": 28,
   "metadata": {},
   "outputs": [],
   "source": [
    "import random\n",
    "random.seed(10)\n",
    "import seaborn as sns\n",
    "import pandas as pd\n",
    "import numpy as np\n",
    "import matplotlib.pyplot as plt\n",
    "from sklearn import linear_model\n",
    "from sklearn.metrics import mean_squared_error\n",
    "from sklearn.model_selection import train_test_split"
   ]
  },
  {
   "cell_type": "markdown",
   "metadata": {},
   "source": [
    "## Part One"
   ]
  },
  {
   "cell_type": "code",
   "execution_count": 29,
   "metadata": {},
   "outputs": [
    {
     "data": {
      "text/html": [
       "<div>\n",
       "<style scoped>\n",
       "    .dataframe tbody tr th:only-of-type {\n",
       "        vertical-align: middle;\n",
       "    }\n",
       "\n",
       "    .dataframe tbody tr th {\n",
       "        vertical-align: top;\n",
       "    }\n",
       "\n",
       "    .dataframe thead th {\n",
       "        text-align: right;\n",
       "    }\n",
       "</style>\n",
       "<table border=\"1\" class=\"dataframe\">\n",
       "  <thead>\n",
       "    <tr style=\"text-align: right;\">\n",
       "      <th></th>\n",
       "      <th>instant</th>\n",
       "      <th>dteday</th>\n",
       "      <th>season</th>\n",
       "      <th>yr</th>\n",
       "      <th>mnth</th>\n",
       "      <th>hr</th>\n",
       "      <th>holiday</th>\n",
       "      <th>weekday</th>\n",
       "      <th>workingday</th>\n",
       "      <th>weathersit</th>\n",
       "      <th>temp</th>\n",
       "      <th>atemp</th>\n",
       "      <th>hum</th>\n",
       "      <th>windspeed</th>\n",
       "      <th>casual</th>\n",
       "      <th>registered</th>\n",
       "      <th>cnt</th>\n",
       "    </tr>\n",
       "  </thead>\n",
       "  <tbody>\n",
       "    <tr>\n",
       "      <th>0</th>\n",
       "      <td>1</td>\n",
       "      <td>2011-01-01</td>\n",
       "      <td>1</td>\n",
       "      <td>0</td>\n",
       "      <td>1</td>\n",
       "      <td>0</td>\n",
       "      <td>0</td>\n",
       "      <td>6</td>\n",
       "      <td>0</td>\n",
       "      <td>1</td>\n",
       "      <td>0.24</td>\n",
       "      <td>0.2879</td>\n",
       "      <td>0.81</td>\n",
       "      <td>0.0</td>\n",
       "      <td>3</td>\n",
       "      <td>13</td>\n",
       "      <td>16</td>\n",
       "    </tr>\n",
       "    <tr>\n",
       "      <th>1</th>\n",
       "      <td>2</td>\n",
       "      <td>2011-01-01</td>\n",
       "      <td>1</td>\n",
       "      <td>0</td>\n",
       "      <td>1</td>\n",
       "      <td>1</td>\n",
       "      <td>0</td>\n",
       "      <td>6</td>\n",
       "      <td>0</td>\n",
       "      <td>1</td>\n",
       "      <td>0.22</td>\n",
       "      <td>0.2727</td>\n",
       "      <td>0.80</td>\n",
       "      <td>0.0</td>\n",
       "      <td>8</td>\n",
       "      <td>32</td>\n",
       "      <td>40</td>\n",
       "    </tr>\n",
       "    <tr>\n",
       "      <th>2</th>\n",
       "      <td>3</td>\n",
       "      <td>2011-01-01</td>\n",
       "      <td>1</td>\n",
       "      <td>0</td>\n",
       "      <td>1</td>\n",
       "      <td>2</td>\n",
       "      <td>0</td>\n",
       "      <td>6</td>\n",
       "      <td>0</td>\n",
       "      <td>1</td>\n",
       "      <td>0.22</td>\n",
       "      <td>0.2727</td>\n",
       "      <td>0.80</td>\n",
       "      <td>0.0</td>\n",
       "      <td>5</td>\n",
       "      <td>27</td>\n",
       "      <td>32</td>\n",
       "    </tr>\n",
       "    <tr>\n",
       "      <th>3</th>\n",
       "      <td>4</td>\n",
       "      <td>2011-01-01</td>\n",
       "      <td>1</td>\n",
       "      <td>0</td>\n",
       "      <td>1</td>\n",
       "      <td>3</td>\n",
       "      <td>0</td>\n",
       "      <td>6</td>\n",
       "      <td>0</td>\n",
       "      <td>1</td>\n",
       "      <td>0.24</td>\n",
       "      <td>0.2879</td>\n",
       "      <td>0.75</td>\n",
       "      <td>0.0</td>\n",
       "      <td>3</td>\n",
       "      <td>10</td>\n",
       "      <td>13</td>\n",
       "    </tr>\n",
       "    <tr>\n",
       "      <th>4</th>\n",
       "      <td>5</td>\n",
       "      <td>2011-01-01</td>\n",
       "      <td>1</td>\n",
       "      <td>0</td>\n",
       "      <td>1</td>\n",
       "      <td>4</td>\n",
       "      <td>0</td>\n",
       "      <td>6</td>\n",
       "      <td>0</td>\n",
       "      <td>1</td>\n",
       "      <td>0.24</td>\n",
       "      <td>0.2879</td>\n",
       "      <td>0.75</td>\n",
       "      <td>0.0</td>\n",
       "      <td>0</td>\n",
       "      <td>1</td>\n",
       "      <td>1</td>\n",
       "    </tr>\n",
       "  </tbody>\n",
       "</table>\n",
       "</div>"
      ],
      "text/plain": [
       "   instant      dteday season  yr  mnth  hr holiday  weekday workingday  \\\n",
       "0        1  2011-01-01      1   0     1   0       0        6          0   \n",
       "1        2  2011-01-01      1   0     1   1       0        6          0   \n",
       "2        3  2011-01-01      1   0     1   2       0        6          0   \n",
       "3        4  2011-01-01      1   0     1   3       0        6          0   \n",
       "4        5  2011-01-01      1   0     1   4       0        6          0   \n",
       "\n",
       "  weathersit  temp   atemp   hum  windspeed  casual  registered  cnt  \n",
       "0          1  0.24  0.2879  0.81        0.0       3          13   16  \n",
       "1          1  0.22  0.2727  0.80        0.0       8          32   40  \n",
       "2          1  0.22  0.2727  0.80        0.0       5          27   32  \n",
       "3          1  0.24  0.2879  0.75        0.0       3          10   13  \n",
       "4          1  0.24  0.2879  0.75        0.0       0           1    1  "
      ]
     },
     "execution_count": 29,
     "metadata": {},
     "output_type": "execute_result"
    }
   ],
   "source": [
    "data = pd.read_csv('bike_share_hour.csv')\n",
    "data['holiday'] = data['holiday'].astype('category')\n",
    "data['season'] = data['season'].astype('category')\n",
    "data['workingday'] = data['workingday'].astype('category')\n",
    "data['weathersit'] = data['weathersit'].astype('category')\n",
    "data.head() #Convert categorical variables to pandas category type"
   ]
  },
  {
   "cell_type": "code",
   "execution_count": 30,
   "metadata": {},
   "outputs": [
    {
     "data": {
      "text/plain": [
       "instant       0\n",
       "dteday        0\n",
       "season        0\n",
       "yr            0\n",
       "mnth          0\n",
       "hr            0\n",
       "holiday       0\n",
       "weekday       0\n",
       "workingday    0\n",
       "weathersit    0\n",
       "temp          0\n",
       "atemp         0\n",
       "hum           0\n",
       "windspeed     0\n",
       "casual        0\n",
       "registered    0\n",
       "cnt           0\n",
       "dtype: int64"
      ]
     },
     "execution_count": 30,
     "metadata": {},
     "output_type": "execute_result"
    }
   ],
   "source": [
    "data.isna().sum() #Every value is non-null"
   ]
  },
  {
   "cell_type": "code",
   "execution_count": 31,
   "metadata": {},
   "outputs": [
    {
     "name": "stderr",
     "output_type": "stream",
     "text": [
      "C:\\Users\\jaram\\AppData\\Local\\Packages\\PythonSoftwareFoundation.Python.3.9_qbz5n2kfra8p0\\LocalCache\\local-packages\\Python39\\site-packages\\seaborn\\_decorators.py:36: FutureWarning: Pass the following variables as keyword args: x, y. From version 0.12, the only valid positional argument will be `data`, and passing other arguments without an explicit keyword will result in an error or misinterpretation.\n",
      "  warnings.warn(\n"
     ]
    },
    {
     "data": {
      "text/plain": [
       "<AxesSubplot:xlabel='season', ylabel='cnt'>"
      ]
     },
     "execution_count": 31,
     "metadata": {},
     "output_type": "execute_result"
    },
    {
     "data": {
      "image/png": "[encoded data removed]",
      "text/plain": [
       "<Figure size 432x288 with 1 Axes>"
      ]
     },
     "metadata": {
      "needs_background": "light"
     },
     "output_type": "display_data"
    }
   ],
   "source": [
    "data.describe()\n",
    "sns.barplot('season', 'cnt', data = data)\n",
    "#It looks like spring has the least riders, and fall has the most"
   ]
  },
  {
   "cell_type": "code",
   "execution_count": 32,
   "metadata": {},
   "outputs": [
    {
     "name": "stderr",
     "output_type": "stream",
     "text": [
      "C:\\Users\\jaram\\AppData\\Local\\Packages\\PythonSoftwareFoundation.Python.3.9_qbz5n2kfra8p0\\LocalCache\\local-packages\\Python39\\site-packages\\seaborn\\_decorators.py:36: FutureWarning: Pass the following variables as keyword args: x, y. From version 0.12, the only valid positional argument will be `data`, and passing other arguments without an explicit keyword will result in an error or misinterpretation.\n",
      "  warnings.warn(\n"
     ]
    },
    {
     "data": {
      "text/plain": [
       "<AxesSubplot:xlabel='workingday', ylabel='cnt'>"
      ]
     },
     "execution_count": 32,
     "metadata": {},
     "output_type": "execute_result"
    },
    {
     "data": {
      "image/png": "[encoded data removed]",
      "text/plain": [
       "<Figure size 432x288 with 1 Axes>"
      ]
     },
     "metadata": {
      "needs_background": "light"
     },
     "output_type": "display_data"
    }
   ],
   "source": [
    "sns.barplot('workingday', 'cnt', data = data)\n",
    "#It seems like people tend to ride more often on their days off, but not by much"
   ]
  },
  {
   "cell_type": "code",
   "execution_count": 33,
   "metadata": {},
   "outputs": [
    {
     "name": "stderr",
     "output_type": "stream",
     "text": [
      "C:\\Users\\jaram\\AppData\\Local\\Packages\\PythonSoftwareFoundation.Python.3.9_qbz5n2kfra8p0\\LocalCache\\local-packages\\Python39\\site-packages\\seaborn\\_decorators.py:36: FutureWarning: Pass the following variables as keyword args: x, y. From version 0.12, the only valid positional argument will be `data`, and passing other arguments without an explicit keyword will result in an error or misinterpretation.\n",
      "  warnings.warn(\n"
     ]
    },
    {
     "data": {
      "text/plain": [
       "<AxesSubplot:xlabel='mnth', ylabel='cnt'>"
      ]
     },
     "execution_count": 33,
     "metadata": {},
     "output_type": "execute_result"
    },
    {
     "data": {
      "image/png": "[encoded data removed]",
      "text/plain": [
       "<Figure size 432x288 with 1 Axes>"
      ]
     },
     "metadata": {
      "needs_background": "light"
     },
     "output_type": "display_data"
    }
   ],
   "source": [
    "sns.barplot('mnth', 'cnt', data = data)\n",
    "#Months 5-10 have the most riders"
   ]
  },
  {
   "cell_type": "code",
   "execution_count": 34,
   "metadata": {},
   "outputs": [
    {
     "data": {
      "text/plain": [
       "array([(1, 1), (2, 1), (3, 1), (3, 2), (4, 2), (5, 2), (6, 2), (6, 3),\n",
       "       (7, 3), (8, 3), (9, 3), (9, 4), (10, 4), (11, 4), (12, 4), (12, 1)],\n",
       "      dtype=object)"
      ]
     },
     "execution_count": 34,
     "metadata": {},
     "output_type": "execute_result"
    }
   ],
   "source": [
    "def get_seasons(df):\n",
    "    month = df[0]\n",
    "    season = df[1]\n",
    "    for i in range(1, 13):\n",
    "        if month == i:\n",
    "            return(i, season)\n",
    "        \n",
    "    \n",
    "    \n",
    "        \n",
    "    \n",
    "\n",
    "    \n",
    "    \n",
    "\n",
    "seasons=data[['mnth','season']].apply(get_seasons,axis=1)\n",
    "\n",
    "seasons.unique()#Still two values in the embarked column, so we drop them \n",
    "\n",
    "    "
   ]
  },
  {
   "cell_type": "markdown",
   "metadata": {},
   "source": [
    "Spring: Monthes 12-3 <br>\n",
    "Summer: Monthes 3-6<br>\n",
    "Fall: Monthes 6-9<br>\n",
    "Winter: Monthes 9-12"
   ]
  },
  {
   "cell_type": "code",
   "execution_count": 35,
   "metadata": {},
   "outputs": [
    {
     "name": "stderr",
     "output_type": "stream",
     "text": [
      "C:\\Users\\jaram\\AppData\\Local\\Packages\\PythonSoftwareFoundation.Python.3.9_qbz5n2kfra8p0\\LocalCache\\local-packages\\Python39\\site-packages\\seaborn\\_decorators.py:36: FutureWarning: Pass the following variables as keyword args: x, y. From version 0.12, the only valid positional argument will be `data`, and passing other arguments without an explicit keyword will result in an error or misinterpretation.\n",
      "  warnings.warn(\n"
     ]
    },
    {
     "data": {
      "text/plain": [
       "<AxesSubplot:xlabel='weathersit', ylabel='cnt'>"
      ]
     },
     "execution_count": 35,
     "metadata": {},
     "output_type": "execute_result"
    },
    {
     "data": {
      "image/png": "[encoded data removed]",
      "text/plain": [
       "<Figure size 432x288 with 1 Axes>"
      ]
     },
     "metadata": {
      "needs_background": "light"
     },
     "output_type": "display_data"
    }
   ],
   "source": [
    "sns.barplot('weathersit', 'cnt', data = data)\n",
    "#People tend to ride more when the weather is nicer"
   ]
  },
  {
   "cell_type": "code",
   "execution_count": 36,
   "metadata": {},
   "outputs": [
    {
     "data": {
      "text/plain": [
       "<AxesSubplot:xlabel='weathersit', ylabel='cnt'>"
      ]
     },
     "execution_count": 36,
     "metadata": {},
     "output_type": "execute_result"
    },
    {
     "data": {
      "image/png": "[encoded data removed]",
      "text/plain": [
       "<Figure size 432x288 with 1 Axes>"
      ]
     },
     "metadata": {
      "needs_background": "light"
     },
     "output_type": "display_data"
    }
   ],
   "source": [
    "sns.pointplot(x='weathersit', y='cnt', hue='season', data = data)\n",
    "#Rider overall count seems to decrease as the weather gets worse, regardless of the season"
   ]
  },
  {
   "cell_type": "code",
   "execution_count": 37,
   "metadata": {},
   "outputs": [
    {
     "name": "stderr",
     "output_type": "stream",
     "text": [
      "C:\\Users\\jaram\\AppData\\Local\\Packages\\PythonSoftwareFoundation.Python.3.9_qbz5n2kfra8p0\\LocalCache\\local-packages\\Python39\\site-packages\\seaborn\\_decorators.py:36: FutureWarning: Pass the following variables as keyword args: x, y. From version 0.12, the only valid positional argument will be `data`, and passing other arguments without an explicit keyword will result in an error or misinterpretation.\n",
      "  warnings.warn(\n"
     ]
    },
    {
     "data": {
      "text/plain": [
       "<AxesSubplot:xlabel='hr', ylabel='cnt'>"
      ]
     },
     "execution_count": 37,
     "metadata": {},
     "output_type": "execute_result"
    },
    {
     "data": {
      "image/png": "[encoded data removed]",
      "text/plain": [
       "<Figure size 432x288 with 1 Axes>"
      ]
     },
     "metadata": {
      "needs_background": "light"
     },
     "output_type": "display_data"
    }
   ],
   "source": [
    "sns.barplot('hr', 'cnt', data = data)\n",
    "#8am, 5pm, and 6 pm are the busiest hours"
   ]
  },
  {
   "cell_type": "code",
   "execution_count": 38,
   "metadata": {},
   "outputs": [
    {
     "name": "stderr",
     "output_type": "stream",
     "text": [
      "C:\\Users\\jaram\\AppData\\Local\\Packages\\PythonSoftwareFoundation.Python.3.9_qbz5n2kfra8p0\\LocalCache\\local-packages\\Python39\\site-packages\\seaborn\\_decorators.py:36: FutureWarning: Pass the following variables as keyword args: x, y. From version 0.12, the only valid positional argument will be `data`, and passing other arguments without an explicit keyword will result in an error or misinterpretation.\n",
      "  warnings.warn(\n"
     ]
    },
    {
     "data": {
      "text/plain": [
       "<AxesSubplot:xlabel='hr', ylabel='cnt'>"
      ]
     },
     "execution_count": 38,
     "metadata": {},
     "output_type": "execute_result"
    },
    {
     "data": {
      "image/png": "[encoded data removed]",
      "text/plain": [
       "<Figure size 432x288 with 1 Axes>"
      ]
     },
     "metadata": {
      "needs_background": "light"
     },
     "output_type": "display_data"
    }
   ],
   "source": [
    "off_days = data.query('workingday == 0')\n",
    "sns.barplot('hr', 'cnt', data = off_days)"
   ]
  },
  {
   "cell_type": "markdown",
   "metadata": {},
   "source": [
    "On The weekends, we get an increase in count for the hours people would normally be working (9am to 5 pm)"
   ]
  },
  {
   "cell_type": "markdown",
   "metadata": {},
   "source": [
    "## Part Two"
   ]
  },
  {
   "cell_type": "code",
   "execution_count": 39,
   "metadata": {},
   "outputs": [
    {
     "data": {
      "text/plain": [
       "<AxesSubplot:>"
      ]
     },
     "execution_count": 39,
     "metadata": {},
     "output_type": "execute_result"
    },
    {
     "data": {
      "image/png": "[encoded data removed]",
      "text/plain": [
       "<Figure size 432x288 with 2 Axes>"
      ]
     },
     "metadata": {
      "needs_background": "light"
     },
     "output_type": "display_data"
    }
   ],
   "source": [
    "\n",
    "data_num = data[['temp', 'atemp', 'yr', 'mnth', 'hum', 'windspeed', 'cnt']]\n",
    "\n",
    "corr = data_num.corr()\n",
    "sns.heatmap(corr)"
   ]
  },
  {
   "cell_type": "markdown",
   "metadata": {},
   "source": [
    "Based on the above heatmap, there is some correlation between the temperature and the count. There is a very obvious one between registered and count, but that doesn't really tell us anything new. It just means most riders register"
   ]
  },
  {
   "cell_type": "code",
   "execution_count": 40,
   "metadata": {},
   "outputs": [
    {
     "data": {
      "text/html": [
       "<div>\n",
       "<style scoped>\n",
       "    .dataframe tbody tr th:only-of-type {\n",
       "        vertical-align: middle;\n",
       "    }\n",
       "\n",
       "    .dataframe tbody tr th {\n",
       "        vertical-align: top;\n",
       "    }\n",
       "\n",
       "    .dataframe thead th {\n",
       "        text-align: right;\n",
       "    }\n",
       "</style>\n",
       "<table border=\"1\" class=\"dataframe\">\n",
       "  <thead>\n",
       "    <tr style=\"text-align: right;\">\n",
       "      <th></th>\n",
       "      <th>instant</th>\n",
       "      <th>dteday</th>\n",
       "      <th>season</th>\n",
       "      <th>yr</th>\n",
       "      <th>mnth</th>\n",
       "      <th>hr</th>\n",
       "      <th>holiday</th>\n",
       "      <th>weekday</th>\n",
       "      <th>workingday</th>\n",
       "      <th>weathersit</th>\n",
       "      <th>temp</th>\n",
       "      <th>atemp</th>\n",
       "      <th>hum</th>\n",
       "      <th>windspeed</th>\n",
       "      <th>casual</th>\n",
       "      <th>registered</th>\n",
       "      <th>cnt</th>\n",
       "    </tr>\n",
       "  </thead>\n",
       "  <tbody>\n",
       "    <tr>\n",
       "      <th>0</th>\n",
       "      <td>1</td>\n",
       "      <td>2011-01-01</td>\n",
       "      <td>1</td>\n",
       "      <td>0</td>\n",
       "      <td>1</td>\n",
       "      <td>0</td>\n",
       "      <td>0</td>\n",
       "      <td>6</td>\n",
       "      <td>0</td>\n",
       "      <td>1</td>\n",
       "      <td>0.24</td>\n",
       "      <td>0.2879</td>\n",
       "      <td>0.81</td>\n",
       "      <td>0.0000</td>\n",
       "      <td>3</td>\n",
       "      <td>13</td>\n",
       "      <td>16</td>\n",
       "    </tr>\n",
       "    <tr>\n",
       "      <th>1</th>\n",
       "      <td>2</td>\n",
       "      <td>2011-01-01</td>\n",
       "      <td>1</td>\n",
       "      <td>0</td>\n",
       "      <td>1</td>\n",
       "      <td>1</td>\n",
       "      <td>0</td>\n",
       "      <td>6</td>\n",
       "      <td>0</td>\n",
       "      <td>1</td>\n",
       "      <td>0.22</td>\n",
       "      <td>0.2727</td>\n",
       "      <td>0.80</td>\n",
       "      <td>0.0000</td>\n",
       "      <td>8</td>\n",
       "      <td>32</td>\n",
       "      <td>40</td>\n",
       "    </tr>\n",
       "    <tr>\n",
       "      <th>2</th>\n",
       "      <td>3</td>\n",
       "      <td>2011-01-01</td>\n",
       "      <td>1</td>\n",
       "      <td>0</td>\n",
       "      <td>1</td>\n",
       "      <td>2</td>\n",
       "      <td>0</td>\n",
       "      <td>6</td>\n",
       "      <td>0</td>\n",
       "      <td>1</td>\n",
       "      <td>0.22</td>\n",
       "      <td>0.2727</td>\n",
       "      <td>0.80</td>\n",
       "      <td>0.0000</td>\n",
       "      <td>5</td>\n",
       "      <td>27</td>\n",
       "      <td>32</td>\n",
       "    </tr>\n",
       "    <tr>\n",
       "      <th>3</th>\n",
       "      <td>4</td>\n",
       "      <td>2011-01-01</td>\n",
       "      <td>1</td>\n",
       "      <td>0</td>\n",
       "      <td>1</td>\n",
       "      <td>3</td>\n",
       "      <td>0</td>\n",
       "      <td>6</td>\n",
       "      <td>0</td>\n",
       "      <td>1</td>\n",
       "      <td>0.24</td>\n",
       "      <td>0.2879</td>\n",
       "      <td>0.75</td>\n",
       "      <td>0.0000</td>\n",
       "      <td>3</td>\n",
       "      <td>10</td>\n",
       "      <td>13</td>\n",
       "    </tr>\n",
       "    <tr>\n",
       "      <th>4</th>\n",
       "      <td>5</td>\n",
       "      <td>2011-01-01</td>\n",
       "      <td>1</td>\n",
       "      <td>0</td>\n",
       "      <td>1</td>\n",
       "      <td>4</td>\n",
       "      <td>0</td>\n",
       "      <td>6</td>\n",
       "      <td>0</td>\n",
       "      <td>1</td>\n",
       "      <td>0.24</td>\n",
       "      <td>0.2879</td>\n",
       "      <td>0.75</td>\n",
       "      <td>0.0000</td>\n",
       "      <td>0</td>\n",
       "      <td>1</td>\n",
       "      <td>1</td>\n",
       "    </tr>\n",
       "    <tr>\n",
       "      <th>...</th>\n",
       "      <td>...</td>\n",
       "      <td>...</td>\n",
       "      <td>...</td>\n",
       "      <td>...</td>\n",
       "      <td>...</td>\n",
       "      <td>...</td>\n",
       "      <td>...</td>\n",
       "      <td>...</td>\n",
       "      <td>...</td>\n",
       "      <td>...</td>\n",
       "      <td>...</td>\n",
       "      <td>...</td>\n",
       "      <td>...</td>\n",
       "      <td>...</td>\n",
       "      <td>...</td>\n",
       "      <td>...</td>\n",
       "      <td>...</td>\n",
       "    </tr>\n",
       "    <tr>\n",
       "      <th>17374</th>\n",
       "      <td>17375</td>\n",
       "      <td>2012-12-31</td>\n",
       "      <td>1</td>\n",
       "      <td>1</td>\n",
       "      <td>12</td>\n",
       "      <td>19</td>\n",
       "      <td>0</td>\n",
       "      <td>1</td>\n",
       "      <td>1</td>\n",
       "      <td>2</td>\n",
       "      <td>0.26</td>\n",
       "      <td>0.2576</td>\n",
       "      <td>0.60</td>\n",
       "      <td>0.1642</td>\n",
       "      <td>11</td>\n",
       "      <td>108</td>\n",
       "      <td>119</td>\n",
       "    </tr>\n",
       "    <tr>\n",
       "      <th>17375</th>\n",
       "      <td>17376</td>\n",
       "      <td>2012-12-31</td>\n",
       "      <td>1</td>\n",
       "      <td>1</td>\n",
       "      <td>12</td>\n",
       "      <td>20</td>\n",
       "      <td>0</td>\n",
       "      <td>1</td>\n",
       "      <td>1</td>\n",
       "      <td>2</td>\n",
       "      <td>0.26</td>\n",
       "      <td>0.2576</td>\n",
       "      <td>0.60</td>\n",
       "      <td>0.1642</td>\n",
       "      <td>8</td>\n",
       "      <td>81</td>\n",
       "      <td>89</td>\n",
       "    </tr>\n",
       "    <tr>\n",
       "      <th>17376</th>\n",
       "      <td>17377</td>\n",
       "      <td>2012-12-31</td>\n",
       "      <td>1</td>\n",
       "      <td>1</td>\n",
       "      <td>12</td>\n",
       "      <td>21</td>\n",
       "      <td>0</td>\n",
       "      <td>1</td>\n",
       "      <td>1</td>\n",
       "      <td>1</td>\n",
       "      <td>0.26</td>\n",
       "      <td>0.2576</td>\n",
       "      <td>0.60</td>\n",
       "      <td>0.1642</td>\n",
       "      <td>7</td>\n",
       "      <td>83</td>\n",
       "      <td>90</td>\n",
       "    </tr>\n",
       "    <tr>\n",
       "      <th>17377</th>\n",
       "      <td>17378</td>\n",
       "      <td>2012-12-31</td>\n",
       "      <td>1</td>\n",
       "      <td>1</td>\n",
       "      <td>12</td>\n",
       "      <td>22</td>\n",
       "      <td>0</td>\n",
       "      <td>1</td>\n",
       "      <td>1</td>\n",
       "      <td>1</td>\n",
       "      <td>0.26</td>\n",
       "      <td>0.2727</td>\n",
       "      <td>0.56</td>\n",
       "      <td>0.1343</td>\n",
       "      <td>13</td>\n",
       "      <td>48</td>\n",
       "      <td>61</td>\n",
       "    </tr>\n",
       "    <tr>\n",
       "      <th>17378</th>\n",
       "      <td>17379</td>\n",
       "      <td>2012-12-31</td>\n",
       "      <td>1</td>\n",
       "      <td>1</td>\n",
       "      <td>12</td>\n",
       "      <td>23</td>\n",
       "      <td>0</td>\n",
       "      <td>1</td>\n",
       "      <td>1</td>\n",
       "      <td>1</td>\n",
       "      <td>0.26</td>\n",
       "      <td>0.2727</td>\n",
       "      <td>0.65</td>\n",
       "      <td>0.1343</td>\n",
       "      <td>12</td>\n",
       "      <td>37</td>\n",
       "      <td>49</td>\n",
       "    </tr>\n",
       "  </tbody>\n",
       "</table>\n",
       "<p>17379 rows × 17 columns</p>\n",
       "</div>"
      ],
      "text/plain": [
       "       instant      dteday season  yr  mnth  hr holiday  weekday workingday  \\\n",
       "0            1  2011-01-01      1   0     1   0       0        6          0   \n",
       "1            2  2011-01-01      1   0     1   1       0        6          0   \n",
       "2            3  2011-01-01      1   0     1   2       0        6          0   \n",
       "3            4  2011-01-01      1   0     1   3       0        6          0   \n",
       "4            5  2011-01-01      1   0     1   4       0        6          0   \n",
       "...        ...         ...    ...  ..   ...  ..     ...      ...        ...   \n",
       "17374    17375  2012-12-31      1   1    12  19       0        1          1   \n",
       "17375    17376  2012-12-31      1   1    12  20       0        1          1   \n",
       "17376    17377  2012-12-31      1   1    12  21       0        1          1   \n",
       "17377    17378  2012-12-31      1   1    12  22       0        1          1   \n",
       "17378    17379  2012-12-31      1   1    12  23       0        1          1   \n",
       "\n",
       "      weathersit  temp   atemp   hum  windspeed  casual  registered  cnt  \n",
       "0              1  0.24  0.2879  0.81     0.0000       3          13   16  \n",
       "1              1  0.22  0.2727  0.80     0.0000       8          32   40  \n",
       "2              1  0.22  0.2727  0.80     0.0000       5          27   32  \n",
       "3              1  0.24  0.2879  0.75     0.0000       3          10   13  \n",
       "4              1  0.24  0.2879  0.75     0.0000       0           1    1  \n",
       "...          ...   ...     ...   ...        ...     ...         ...  ...  \n",
       "17374          2  0.26  0.2576  0.60     0.1642      11         108  119  \n",
       "17375          2  0.26  0.2576  0.60     0.1642       8          81   89  \n",
       "17376          1  0.26  0.2576  0.60     0.1642       7          83   90  \n",
       "17377          1  0.26  0.2727  0.56     0.1343      13          48   61  \n",
       "17378          1  0.26  0.2727  0.65     0.1343      12          37   49  \n",
       "\n",
       "[17379 rows x 17 columns]"
      ]
     },
     "execution_count": 40,
     "metadata": {},
     "output_type": "execute_result"
    }
   ],
   "source": [
    "data"
   ]
  },
  {
   "cell_type": "code",
   "execution_count": 41,
   "metadata": {},
   "outputs": [],
   "source": [
    "from sklearn.pipeline import Pipeline\n",
    "from sklearn.preprocessing import StandardScaler\n",
    "from sklearn.preprocessing import OneHotEncoder\n",
    "from sklearn.compose import ColumnTransformer\n",
    "data = data.drop(['instant', 'dteday', 'casual', 'registered'], axis=1)\n",
    "data_cat = data[['holiday', 'workingday', 'weathersit', 'season']]\n",
    "data_num = data[['temp', 'atemp', 'yr', 'mnth', 'hum', 'windspeed', 'cnt']]\n",
    "scaler = StandardScaler()\n",
    "scaled_data = scaler.fit_transform(data_num)\n"
   ]
  },
  {
   "cell_type": "code",
   "execution_count": 42,
   "metadata": {},
   "outputs": [
    {
     "data": {
      "text/html": [
       "<div>\n",
       "<style scoped>\n",
       "    .dataframe tbody tr th:only-of-type {\n",
       "        vertical-align: middle;\n",
       "    }\n",
       "\n",
       "    .dataframe tbody tr th {\n",
       "        vertical-align: top;\n",
       "    }\n",
       "\n",
       "    .dataframe thead th {\n",
       "        text-align: right;\n",
       "    }\n",
       "</style>\n",
       "<table border=\"1\" class=\"dataframe\">\n",
       "  <thead>\n",
       "    <tr style=\"text-align: right;\">\n",
       "      <th></th>\n",
       "      <th>temp</th>\n",
       "      <th>atemp</th>\n",
       "      <th>yr</th>\n",
       "      <th>mnth</th>\n",
       "      <th>hum</th>\n",
       "      <th>windspeed</th>\n",
       "      <th>cnt</th>\n",
       "    </tr>\n",
       "  </thead>\n",
       "  <tbody>\n",
       "    <tr>\n",
       "      <th>0</th>\n",
       "      <td>-1.334648</td>\n",
       "      <td>-1.093281</td>\n",
       "      <td>-1.005134</td>\n",
       "      <td>-1.610438</td>\n",
       "      <td>0.947372</td>\n",
       "      <td>-1.553889</td>\n",
       "      <td>-0.956339</td>\n",
       "    </tr>\n",
       "    <tr>\n",
       "      <th>1</th>\n",
       "      <td>-1.438516</td>\n",
       "      <td>-1.181732</td>\n",
       "      <td>-1.005134</td>\n",
       "      <td>-1.610438</td>\n",
       "      <td>0.895539</td>\n",
       "      <td>-1.553889</td>\n",
       "      <td>-0.824022</td>\n",
       "    </tr>\n",
       "    <tr>\n",
       "      <th>2</th>\n",
       "      <td>-1.438516</td>\n",
       "      <td>-1.181732</td>\n",
       "      <td>-1.005134</td>\n",
       "      <td>-1.610438</td>\n",
       "      <td>0.895539</td>\n",
       "      <td>-1.553889</td>\n",
       "      <td>-0.868128</td>\n",
       "    </tr>\n",
       "    <tr>\n",
       "      <th>3</th>\n",
       "      <td>-1.334648</td>\n",
       "      <td>-1.093281</td>\n",
       "      <td>-1.005134</td>\n",
       "      <td>-1.610438</td>\n",
       "      <td>0.636370</td>\n",
       "      <td>-1.553889</td>\n",
       "      <td>-0.972879</td>\n",
       "    </tr>\n",
       "    <tr>\n",
       "      <th>4</th>\n",
       "      <td>-1.334648</td>\n",
       "      <td>-1.093281</td>\n",
       "      <td>-1.005134</td>\n",
       "      <td>-1.610438</td>\n",
       "      <td>0.636370</td>\n",
       "      <td>-1.553889</td>\n",
       "      <td>-1.039037</td>\n",
       "    </tr>\n",
       "    <tr>\n",
       "      <th>...</th>\n",
       "      <td>...</td>\n",
       "      <td>...</td>\n",
       "      <td>...</td>\n",
       "      <td>...</td>\n",
       "      <td>...</td>\n",
       "      <td>...</td>\n",
       "      <td>...</td>\n",
       "    </tr>\n",
       "    <tr>\n",
       "      <th>17374</th>\n",
       "      <td>-1.230779</td>\n",
       "      <td>-1.269602</td>\n",
       "      <td>0.994892</td>\n",
       "      <td>1.588467</td>\n",
       "      <td>-0.141137</td>\n",
       "      <td>-0.211691</td>\n",
       "      <td>-0.388478</td>\n",
       "    </tr>\n",
       "    <tr>\n",
       "      <th>17375</th>\n",
       "      <td>-1.230779</td>\n",
       "      <td>-1.269602</td>\n",
       "      <td>0.994892</td>\n",
       "      <td>1.588467</td>\n",
       "      <td>-0.141137</td>\n",
       "      <td>-0.211691</td>\n",
       "      <td>-0.553875</td>\n",
       "    </tr>\n",
       "    <tr>\n",
       "      <th>17376</th>\n",
       "      <td>-1.230779</td>\n",
       "      <td>-1.269602</td>\n",
       "      <td>0.994892</td>\n",
       "      <td>1.588467</td>\n",
       "      <td>-0.141137</td>\n",
       "      <td>-0.211691</td>\n",
       "      <td>-0.548361</td>\n",
       "    </tr>\n",
       "    <tr>\n",
       "      <th>17377</th>\n",
       "      <td>-1.230779</td>\n",
       "      <td>-1.181732</td>\n",
       "      <td>0.994892</td>\n",
       "      <td>1.588467</td>\n",
       "      <td>-0.348473</td>\n",
       "      <td>-0.456099</td>\n",
       "      <td>-0.708245</td>\n",
       "    </tr>\n",
       "    <tr>\n",
       "      <th>17378</th>\n",
       "      <td>-1.230779</td>\n",
       "      <td>-1.181732</td>\n",
       "      <td>0.994892</td>\n",
       "      <td>1.588467</td>\n",
       "      <td>0.118032</td>\n",
       "      <td>-0.456099</td>\n",
       "      <td>-0.774403</td>\n",
       "    </tr>\n",
       "  </tbody>\n",
       "</table>\n",
       "<p>17379 rows × 7 columns</p>\n",
       "</div>"
      ],
      "text/plain": [
       "           temp     atemp        yr      mnth       hum  windspeed       cnt\n",
       "0     -1.334648 -1.093281 -1.005134 -1.610438  0.947372  -1.553889 -0.956339\n",
       "1     -1.438516 -1.181732 -1.005134 -1.610438  0.895539  -1.553889 -0.824022\n",
       "2     -1.438516 -1.181732 -1.005134 -1.610438  0.895539  -1.553889 -0.868128\n",
       "3     -1.334648 -1.093281 -1.005134 -1.610438  0.636370  -1.553889 -0.972879\n",
       "4     -1.334648 -1.093281 -1.005134 -1.610438  0.636370  -1.553889 -1.039037\n",
       "...         ...       ...       ...       ...       ...        ...       ...\n",
       "17374 -1.230779 -1.269602  0.994892  1.588467 -0.141137  -0.211691 -0.388478\n",
       "17375 -1.230779 -1.269602  0.994892  1.588467 -0.141137  -0.211691 -0.553875\n",
       "17376 -1.230779 -1.269602  0.994892  1.588467 -0.141137  -0.211691 -0.548361\n",
       "17377 -1.230779 -1.181732  0.994892  1.588467 -0.348473  -0.456099 -0.708245\n",
       "17378 -1.230779 -1.181732  0.994892  1.588467  0.118032  -0.456099 -0.774403\n",
       "\n",
       "[17379 rows x 7 columns]"
      ]
     },
     "execution_count": 42,
     "metadata": {},
     "output_type": "execute_result"
    }
   ],
   "source": [
    "scaled_data = pd.DataFrame(scaled_data, columns=list(data_num))\n",
    "\n",
    "scaled_data"
   ]
  },
  {
   "cell_type": "code",
   "execution_count": 43,
   "metadata": {},
   "outputs": [
    {
     "data": {
      "text/plain": [
       "<AxesSubplot:xlabel='cnt', ylabel='Count'>"
      ]
     },
     "execution_count": 43,
     "metadata": {},
     "output_type": "execute_result"
    },
    {
     "data": {
      "image/png": "[encoded data removed]",
      "text/plain": [
       "<Figure size 432x288 with 1 Axes>"
      ]
     },
     "metadata": {
      "needs_background": "light"
     },
     "output_type": "display_data"
    }
   ],
   "source": [
    "sns.histplot(data['cnt'])"
   ]
  },
  {
   "cell_type": "markdown",
   "metadata": {},
   "source": [
    "The histogram tells us that way more often then not, there are less then about 100 riders in a given day"
   ]
  },
  {
   "cell_type": "code",
   "execution_count": 44,
   "metadata": {},
   "outputs": [],
   "source": [
    "data_cat = data[['holiday', 'workingday', 'weathersit', 'season']]\n",
    "scaled_data[['holiday', 'workingday', 'weathersit', 'season']] = data_cat[['holiday', 'workingday', 'weathersit', 'season']]\n",
    "scaled_data #After scaling, combine back into one dataset\n",
    "scaled_data.to_csv('prepared_bike.csv')"
   ]
  },
  {
   "cell_type": "code",
   "execution_count": 247,
   "metadata": {},
   "outputs": [],
   "source": [
    "X=scaled_data.drop('cnt',axis=1) \n",
    "y=scaled_data['cnt'].copy()\n",
    "\n",
    "\n",
    "train_feature, test_feature, train_target, test_target = train_test_split(X, y, test_size=0.33) #Split data into test and training sets"
   ]
  },
  {
   "cell_type": "code",
   "execution_count": 248,
   "metadata": {},
   "outputs": [
    {
     "name": "stdout",
     "output_type": "stream",
     "text": [
      "R2:  [0.28264772 0.33474882 0.31294087 0.31495012 0.31295519]\n",
      "MSE  0.683876802495238\n",
      "RMSE  0.8252488034102642\n"
     ]
    }
   ],
   "source": [
    "lin_reg = linear_model.LinearRegression()\n",
    "\n",
    "lin_reg.fit(train_feature, train_target)\n",
    "pred = lin_reg.predict(test_feature) #Produce predictions with test features\n",
    "\n",
    "from sklearn.model_selection import cross_validate\n",
    "scores = cross_validate(lin_reg, X, y, scoring=('r2', 'neg_mean_squared_error'), return_train_score=True)\n",
    "print('R2: ', scores['train_r2'])\n",
    "print('MSE ', np.mean(-scores['train_neg_mean_squared_error']))\n",
    "print('RMSE ', np.mean(np.sqrt(-scores['train_neg_mean_squared_error']))) "
   ]
  },
  {
   "cell_type": "markdown",
   "metadata": {},
   "source": [
    "## Part 3"
   ]
  },
  {
   "cell_type": "code",
   "execution_count": 249,
   "metadata": {},
   "outputs": [
    {
     "data": {
      "text/html": [
       "<div>\n",
       "<style scoped>\n",
       "    .dataframe tbody tr th:only-of-type {\n",
       "        vertical-align: middle;\n",
       "    }\n",
       "\n",
       "    .dataframe tbody tr th {\n",
       "        vertical-align: top;\n",
       "    }\n",
       "\n",
       "    .dataframe thead th {\n",
       "        text-align: right;\n",
       "    }\n",
       "</style>\n",
       "<table border=\"1\" class=\"dataframe\">\n",
       "  <thead>\n",
       "    <tr style=\"text-align: right;\">\n",
       "      <th></th>\n",
       "      <th>temp</th>\n",
       "      <th>atemp</th>\n",
       "      <th>yr</th>\n",
       "      <th>mnth</th>\n",
       "      <th>hum</th>\n",
       "      <th>windspeed</th>\n",
       "      <th>cnt</th>\n",
       "      <th>holiday__1</th>\n",
       "      <th>workingday__1</th>\n",
       "      <th>weathersit__1</th>\n",
       "      <th>weathersit__2</th>\n",
       "      <th>weathersit__3</th>\n",
       "      <th>weathersit__4</th>\n",
       "      <th>season__1</th>\n",
       "      <th>season__2</th>\n",
       "      <th>season__3</th>\n",
       "      <th>season__4</th>\n",
       "    </tr>\n",
       "  </thead>\n",
       "  <tbody>\n",
       "    <tr>\n",
       "      <th>0</th>\n",
       "      <td>-1.334648</td>\n",
       "      <td>-1.093281</td>\n",
       "      <td>-1.005134</td>\n",
       "      <td>-1.610438</td>\n",
       "      <td>0.947372</td>\n",
       "      <td>-1.553889</td>\n",
       "      <td>-0.956339</td>\n",
       "      <td>0</td>\n",
       "      <td>0</td>\n",
       "      <td>1</td>\n",
       "      <td>0</td>\n",
       "      <td>0</td>\n",
       "      <td>0</td>\n",
       "      <td>1</td>\n",
       "      <td>0</td>\n",
       "      <td>0</td>\n",
       "      <td>0</td>\n",
       "    </tr>\n",
       "    <tr>\n",
       "      <th>1</th>\n",
       "      <td>-1.438516</td>\n",
       "      <td>-1.181732</td>\n",
       "      <td>-1.005134</td>\n",
       "      <td>-1.610438</td>\n",
       "      <td>0.895539</td>\n",
       "      <td>-1.553889</td>\n",
       "      <td>-0.824022</td>\n",
       "      <td>0</td>\n",
       "      <td>0</td>\n",
       "      <td>1</td>\n",
       "      <td>0</td>\n",
       "      <td>0</td>\n",
       "      <td>0</td>\n",
       "      <td>1</td>\n",
       "      <td>0</td>\n",
       "      <td>0</td>\n",
       "      <td>0</td>\n",
       "    </tr>\n",
       "    <tr>\n",
       "      <th>2</th>\n",
       "      <td>-1.438516</td>\n",
       "      <td>-1.181732</td>\n",
       "      <td>-1.005134</td>\n",
       "      <td>-1.610438</td>\n",
       "      <td>0.895539</td>\n",
       "      <td>-1.553889</td>\n",
       "      <td>-0.868128</td>\n",
       "      <td>0</td>\n",
       "      <td>0</td>\n",
       "      <td>1</td>\n",
       "      <td>0</td>\n",
       "      <td>0</td>\n",
       "      <td>0</td>\n",
       "      <td>1</td>\n",
       "      <td>0</td>\n",
       "      <td>0</td>\n",
       "      <td>0</td>\n",
       "    </tr>\n",
       "    <tr>\n",
       "      <th>3</th>\n",
       "      <td>-1.334648</td>\n",
       "      <td>-1.093281</td>\n",
       "      <td>-1.005134</td>\n",
       "      <td>-1.610438</td>\n",
       "      <td>0.636370</td>\n",
       "      <td>-1.553889</td>\n",
       "      <td>-0.972879</td>\n",
       "      <td>0</td>\n",
       "      <td>0</td>\n",
       "      <td>1</td>\n",
       "      <td>0</td>\n",
       "      <td>0</td>\n",
       "      <td>0</td>\n",
       "      <td>1</td>\n",
       "      <td>0</td>\n",
       "      <td>0</td>\n",
       "      <td>0</td>\n",
       "    </tr>\n",
       "    <tr>\n",
       "      <th>4</th>\n",
       "      <td>-1.334648</td>\n",
       "      <td>-1.093281</td>\n",
       "      <td>-1.005134</td>\n",
       "      <td>-1.610438</td>\n",
       "      <td>0.636370</td>\n",
       "      <td>-1.553889</td>\n",
       "      <td>-1.039037</td>\n",
       "      <td>0</td>\n",
       "      <td>0</td>\n",
       "      <td>1</td>\n",
       "      <td>0</td>\n",
       "      <td>0</td>\n",
       "      <td>0</td>\n",
       "      <td>1</td>\n",
       "      <td>0</td>\n",
       "      <td>0</td>\n",
       "      <td>0</td>\n",
       "    </tr>\n",
       "    <tr>\n",
       "      <th>...</th>\n",
       "      <td>...</td>\n",
       "      <td>...</td>\n",
       "      <td>...</td>\n",
       "      <td>...</td>\n",
       "      <td>...</td>\n",
       "      <td>...</td>\n",
       "      <td>...</td>\n",
       "      <td>...</td>\n",
       "      <td>...</td>\n",
       "      <td>...</td>\n",
       "      <td>...</td>\n",
       "      <td>...</td>\n",
       "      <td>...</td>\n",
       "      <td>...</td>\n",
       "      <td>...</td>\n",
       "      <td>...</td>\n",
       "      <td>...</td>\n",
       "    </tr>\n",
       "    <tr>\n",
       "      <th>17374</th>\n",
       "      <td>-1.230779</td>\n",
       "      <td>-1.269602</td>\n",
       "      <td>0.994892</td>\n",
       "      <td>1.588467</td>\n",
       "      <td>-0.141137</td>\n",
       "      <td>-0.211691</td>\n",
       "      <td>-0.388478</td>\n",
       "      <td>0</td>\n",
       "      <td>1</td>\n",
       "      <td>0</td>\n",
       "      <td>1</td>\n",
       "      <td>0</td>\n",
       "      <td>0</td>\n",
       "      <td>1</td>\n",
       "      <td>0</td>\n",
       "      <td>0</td>\n",
       "      <td>0</td>\n",
       "    </tr>\n",
       "    <tr>\n",
       "      <th>17375</th>\n",
       "      <td>-1.230779</td>\n",
       "      <td>-1.269602</td>\n",
       "      <td>0.994892</td>\n",
       "      <td>1.588467</td>\n",
       "      <td>-0.141137</td>\n",
       "      <td>-0.211691</td>\n",
       "      <td>-0.553875</td>\n",
       "      <td>0</td>\n",
       "      <td>1</td>\n",
       "      <td>0</td>\n",
       "      <td>1</td>\n",
       "      <td>0</td>\n",
       "      <td>0</td>\n",
       "      <td>1</td>\n",
       "      <td>0</td>\n",
       "      <td>0</td>\n",
       "      <td>0</td>\n",
       "    </tr>\n",
       "    <tr>\n",
       "      <th>17376</th>\n",
       "      <td>-1.230779</td>\n",
       "      <td>-1.269602</td>\n",
       "      <td>0.994892</td>\n",
       "      <td>1.588467</td>\n",
       "      <td>-0.141137</td>\n",
       "      <td>-0.211691</td>\n",
       "      <td>-0.548361</td>\n",
       "      <td>0</td>\n",
       "      <td>1</td>\n",
       "      <td>1</td>\n",
       "      <td>0</td>\n",
       "      <td>0</td>\n",
       "      <td>0</td>\n",
       "      <td>1</td>\n",
       "      <td>0</td>\n",
       "      <td>0</td>\n",
       "      <td>0</td>\n",
       "    </tr>\n",
       "    <tr>\n",
       "      <th>17377</th>\n",
       "      <td>-1.230779</td>\n",
       "      <td>-1.181732</td>\n",
       "      <td>0.994892</td>\n",
       "      <td>1.588467</td>\n",
       "      <td>-0.348473</td>\n",
       "      <td>-0.456099</td>\n",
       "      <td>-0.708245</td>\n",
       "      <td>0</td>\n",
       "      <td>1</td>\n",
       "      <td>1</td>\n",
       "      <td>0</td>\n",
       "      <td>0</td>\n",
       "      <td>0</td>\n",
       "      <td>1</td>\n",
       "      <td>0</td>\n",
       "      <td>0</td>\n",
       "      <td>0</td>\n",
       "    </tr>\n",
       "    <tr>\n",
       "      <th>17378</th>\n",
       "      <td>-1.230779</td>\n",
       "      <td>-1.181732</td>\n",
       "      <td>0.994892</td>\n",
       "      <td>1.588467</td>\n",
       "      <td>0.118032</td>\n",
       "      <td>-0.456099</td>\n",
       "      <td>-0.774403</td>\n",
       "      <td>0</td>\n",
       "      <td>1</td>\n",
       "      <td>1</td>\n",
       "      <td>0</td>\n",
       "      <td>0</td>\n",
       "      <td>0</td>\n",
       "      <td>1</td>\n",
       "      <td>0</td>\n",
       "      <td>0</td>\n",
       "      <td>0</td>\n",
       "    </tr>\n",
       "  </tbody>\n",
       "</table>\n",
       "<p>17379 rows × 17 columns</p>\n",
       "</div>"
      ],
      "text/plain": [
       "           temp     atemp        yr      mnth       hum  windspeed       cnt  \\\n",
       "0     -1.334648 -1.093281 -1.005134 -1.610438  0.947372  -1.553889 -0.956339   \n",
       "1     -1.438516 -1.181732 -1.005134 -1.610438  0.895539  -1.553889 -0.824022   \n",
       "2     -1.438516 -1.181732 -1.005134 -1.610438  0.895539  -1.553889 -0.868128   \n",
       "3     -1.334648 -1.093281 -1.005134 -1.610438  0.636370  -1.553889 -0.972879   \n",
       "4     -1.334648 -1.093281 -1.005134 -1.610438  0.636370  -1.553889 -1.039037   \n",
       "...         ...       ...       ...       ...       ...        ...       ...   \n",
       "17374 -1.230779 -1.269602  0.994892  1.588467 -0.141137  -0.211691 -0.388478   \n",
       "17375 -1.230779 -1.269602  0.994892  1.588467 -0.141137  -0.211691 -0.553875   \n",
       "17376 -1.230779 -1.269602  0.994892  1.588467 -0.141137  -0.211691 -0.548361   \n",
       "17377 -1.230779 -1.181732  0.994892  1.588467 -0.348473  -0.456099 -0.708245   \n",
       "17378 -1.230779 -1.181732  0.994892  1.588467  0.118032  -0.456099 -0.774403   \n",
       "\n",
       "       holiday__1  workingday__1  weathersit__1  weathersit__2  weathersit__3  \\\n",
       "0               0              0              1              0              0   \n",
       "1               0              0              1              0              0   \n",
       "2               0              0              1              0              0   \n",
       "3               0              0              1              0              0   \n",
       "4               0              0              1              0              0   \n",
       "...           ...            ...            ...            ...            ...   \n",
       "17374           0              1              0              1              0   \n",
       "17375           0              1              0              1              0   \n",
       "17376           0              1              1              0              0   \n",
       "17377           0              1              1              0              0   \n",
       "17378           0              1              1              0              0   \n",
       "\n",
       "       weathersit__4  season__1  season__2  season__3  season__4  \n",
       "0                  0          1          0          0          0  \n",
       "1                  0          1          0          0          0  \n",
       "2                  0          1          0          0          0  \n",
       "3                  0          1          0          0          0  \n",
       "4                  0          1          0          0          0  \n",
       "...              ...        ...        ...        ...        ...  \n",
       "17374              0          1          0          0          0  \n",
       "17375              0          1          0          0          0  \n",
       "17376              0          1          0          0          0  \n",
       "17377              0          1          0          0          0  \n",
       "17378              0          1          0          0          0  \n",
       "\n",
       "[17379 rows x 17 columns]"
      ]
     },
     "execution_count": 249,
     "metadata": {},
     "output_type": "execute_result"
    }
   ],
   "source": [
    "#Create dummies, add them to df, drop original categories \n",
    "holiday=pd.get_dummies(data['holiday'],drop_first=True, prefix='holiday_') \n",
    "workingday=pd.get_dummies(data['workingday'],drop_first=True, prefix='workingday_')\n",
    "weathersit=pd.get_dummies(data['weathersit'], prefix='weathersit_')\n",
    "season=pd.get_dummies(data['season'], prefix='season_')\n",
    "\n",
    "scaled_data = pd.merge(\n",
    "    left=scaled_data ,\n",
    "    right=holiday,\n",
    "    left_index=True,\n",
    "    right_index=True,\n",
    ")\n",
    "scaled_data = pd.merge(\n",
    "    left=scaled_data ,\n",
    "    right=workingday,\n",
    "    left_index=True,\n",
    "    right_index=True,\n",
    ")\n",
    "scaled_data = pd.merge(\n",
    "    left=scaled_data ,\n",
    "    right=weathersit,\n",
    "    left_index=True,\n",
    "    right_index=True,\n",
    ")\n",
    "scaled_data = pd.merge(\n",
    "    left=scaled_data ,\n",
    "    right=season,\n",
    "    left_index=True,\n",
    "    right_index=True,\n",
    ")\n",
    "scaled_data = scaled_data.drop(columns=['holiday', 'workingday', 'weathersit', 'season'])\n",
    "scaled_data"
   ]
  },
  {
   "cell_type": "code",
   "execution_count": 250,
   "metadata": {},
   "outputs": [
    {
     "name": "stdout",
     "output_type": "stream",
     "text": [
      "R2:  [0.29933034 0.34666689 0.32797967 0.32347267 0.33186217]\n",
      "MSE  0.6697014163590714\n",
      "RMSE  0.8166745078243268\n"
     ]
    }
   ],
   "source": [
    "X=scaled_data.drop('cnt',axis=1) \n",
    "y=scaled_data['cnt'].copy()\n",
    "\n",
    "\n",
    "train_feature, test_feature, train_target, test_target = train_test_split(X, y, test_size=0.33) #Split data into test and training sets\n",
    "\n",
    "lin_reg = linear_model.LinearRegression()\n",
    "\n",
    "lin_reg.fit(train_feature, train_target)\n",
    "pred = lin_reg.predict(test_feature) #same process as above\n",
    "\n",
    "\n",
    "scores = cross_validate(lin_reg, X, y, scoring=('r2', 'neg_mean_squared_error'), return_train_score=True)\n",
    "print('R2: ', scores['train_r2'])\n",
    "print('MSE ', np.mean(-scores['train_neg_mean_squared_error']))\n",
    "print('RMSE ', np.mean(np.sqrt(-scores['train_neg_mean_squared_error']))) "
   ]
  },
  {
   "cell_type": "markdown",
   "metadata": {},
   "source": [
    "Our MSE/RMSE improved as a result of the scaling and the one hot encoding"
   ]
  },
  {
   "cell_type": "code",
   "execution_count": 264,
   "metadata": {},
   "outputs": [
    {
     "name": "stdout",
     "output_type": "stream",
     "text": [
      "R2:  0.9486120003951803\n",
      "MSE  0.051211905375192754\n",
      "RMSE  0.2256070941313501\n"
     ]
    }
   ],
   "source": [
    "#Decision Tree\n",
    "from sklearn.tree import DecisionTreeRegressor\n",
    "dt_reg = DecisionTreeRegressor(random_state=0)\n",
    "dt_reg.fit(train_feature, train_target)\n",
    "\n",
    "scores = cross_validate(dt_reg, X, y, scoring=('r2', 'neg_mean_squared_error'), return_train_score=True)\n",
    "print('R2: ', np.mean(scores['train_r2']))\n",
    "print('MSE ', np.mean(-scores['train_neg_mean_squared_error']))\n",
    "print('RMSE ', np.mean(np.sqrt(-scores['train_neg_mean_squared_error'])))"
   ]
  },
  {
   "cell_type": "code",
   "execution_count": 265,
   "metadata": {},
   "outputs": [
    {
     "name": "stdout",
     "output_type": "stream",
     "text": [
      "R2:  0.878301760355721\n",
      "MSE  0.12109521685839905\n",
      "RMSE  0.34709024132882116\n"
     ]
    }
   ],
   "source": [
    "#Train and Score Random Forest Regressor\n",
    "from sklearn.ensemble import RandomForestRegressor\n",
    "rf_reg = RandomForestRegressor(random_state=0, n_estimators=30)\n",
    "rf_reg.fit(train_feature, train_target)\n",
    "pred = rf_reg.predict(test_feature) \n",
    "\n",
    "\n",
    "scores = cross_validate(rf_reg, X, y, scoring=('r2', 'neg_mean_squared_error'), return_train_score=True)\n",
    "print('R2: ', np.mean(scores['train_r2']))\n",
    "print('MSE ', np.mean(-scores['train_neg_mean_squared_error']))\n",
    "print('RMSE ', np.mean(np.sqrt(-scores['train_neg_mean_squared_error']))) "
   ]
  },
  {
   "cell_type": "code",
   "execution_count": 254,
   "metadata": {},
   "outputs": [
    {
     "name": "stdout",
     "output_type": "stream",
     "text": [
      "R2:  [0.2978383  0.34612482 0.32531915 0.32220108 0.32968047]\n",
      "MSE  0.6713146585957355\n",
      "RMSE  0.8176580299066221\n"
     ]
    }
   ],
   "source": [
    "#SGD \n",
    "from sklearn.linear_model import SGDRegressor\n",
    "\n",
    "sgd_reg = SGDRegressor(max_iter=1000, tol=1e-3)\n",
    "sgd_reg.fit(train_feature, train_label)\n",
    "pred = sgd_reg.predict(test_feature) \n",
    "\n",
    "\n",
    "scores = cross_validate(sgd_reg, X, y, scoring=('r2', 'neg_mean_squared_error'), return_train_score=True)\n",
    "print('R2: ', scores['train_r2'])\n",
    "print('MSE ', np.mean(-scores['train_neg_mean_squared_error']))\n",
    "print('RMSE ', np.mean(np.sqrt(-scores['train_neg_mean_squared_error']))) "
   ]
  },
  {
   "cell_type": "code",
   "execution_count": 260,
   "metadata": {},
   "outputs": [
    {
     "name": "stdout",
     "output_type": "stream",
     "text": [
      "R2:  [0.23155741 0.29894326 0.27931879 0.25867363 0.27577523]\n",
      "MSE  0.7259861873472616\n",
      "RMSE  0.8503531690828925\n"
     ]
    }
   ],
   "source": [
    "#Lasso\n",
    "from sklearn.linear_model import Lasso\n",
    "lasso_reg = Lasso(alpha = 0.1)\n",
    "lasso_reg.fit(train_feature, train_target)\n",
    "pred = lasso_reg.predict(test_feature) \n",
    "\n",
    "\n",
    "scores = cross_validate(lasso_reg, X, y, scoring=('r2', 'neg_mean_squared_error'), return_train_score=True)\n",
    "print('R2: ', scores['train_r2'])\n",
    "print('MSE ', np.mean(-scores['train_neg_mean_squared_error']))\n",
    "print('RMSE ', np.mean(np.sqrt(-scores['train_neg_mean_squared_error']))) \n"
   ]
  },
  {
   "cell_type": "code",
   "execution_count": 261,
   "metadata": {},
   "outputs": [
    {
     "name": "stdout",
     "output_type": "stream",
     "text": [
      "R2:  [0. 0. 0. 0. 0.]\n",
      "MSE  0.9930782824632691\n",
      "RMSE  0.9946417962683395\n"
     ]
    }
   ],
   "source": [
    "#ElasticNet Regressor\n",
    "from sklearn.linear_model import ElasticNet\n",
    "el_reg = ElasticNet(random_state=0)\n",
    "el_reg.fit(train_feature, train_target)\n",
    "pred = el_reg.predict(test_feature) \n",
    "\n",
    "\n",
    "scores = cross_validate(el_reg, X, y, scoring=('r2', 'neg_mean_squared_error'), return_train_score=True)\n",
    "print('R2: ', scores['train_r2'])\n",
    "print('MSE ', np.mean(-scores['train_neg_mean_squared_error']))\n",
    "print('RMSE ', np.mean(np.sqrt(-scores['train_neg_mean_squared_error']))) \n"
   ]
  },
  {
   "cell_type": "code",
   "execution_count": 259,
   "metadata": {},
   "outputs": [
    {
     "name": "stdout",
     "output_type": "stream",
     "text": [
      "R2:  [0.29933385 0.34667286 0.32797824 0.32347981 0.33186166]\n",
      "MSE  0.6696985555456412\n",
      "RMSE  0.8166727450628475\n"
     ]
    }
   ],
   "source": [
    "#Ridge Regressor\n",
    "from sklearn.linear_model import Ridge\n",
    "ridge_reg = Ridge(alpha = 0.5)\n",
    "ridge_reg.fit(train_feature, train_target)\n",
    "pred = ridge_reg.predict(test_feature) \n",
    "\n",
    "\n",
    "scores = cross_validate(ridge_reg, X, y, scoring=('r2', 'neg_mean_squared_error'), return_train_score=True)\n",
    "print('R2: ', scores['train_r2'])\n",
    "print('MSE ', np.mean(-scores['train_neg_mean_squared_error']))\n",
    "print('RMSE ', np.mean(np.sqrt(-scores['train_neg_mean_squared_error']))) "
   ]
  },
  {
   "cell_type": "code",
   "execution_count": 266,
   "metadata": {},
   "outputs": [
    {
     "name": "stdout",
     "output_type": "stream",
     "text": [
      "R2:  0.8578990109200711\n",
      "MSE  0.1414284293808175\n",
      "RMSE  0.3750856658609726\n"
     ]
    }
   ],
   "source": [
    "#Bagging Regressor\n",
    "from sklearn.ensemble import BaggingRegressor\n",
    "bag_reg = BaggingRegressor()\n",
    "bag_reg.fit(train_feature, train_target)\n",
    "pred = bag_reg.predict(test_feature) \n",
    "\n",
    "\n",
    "scores = cross_validate(bag_reg, X, y, scoring=('r2', 'neg_mean_squared_error'), return_train_score=True)\n",
    "print('R2: ', np.mean(scores['train_r2']))\n",
    "print('MSE ', np.mean(-scores['train_neg_mean_squared_error']))\n",
    "print('RMSE ', np.mean(np.sqrt(-scores['train_neg_mean_squared_error']))) "
   ]
  },
  {
   "cell_type": "markdown",
   "metadata": {},
   "source": [
    "## Part 4"
   ]
  },
  {
   "cell_type": "markdown",
   "metadata": {},
   "source": [
    "Top Three Performing Models based on RMSE: Bagging Regressor, Random Forest Regressor, Decision Tree Regressor. Cross Validation already performed above, which makes my best model the Desicion Tree Regressor"
   ]
  },
  {
   "cell_type": "markdown",
   "metadata": {},
   "source": [
    "Bootstrap: true, false\n",
    "● Max_depth: 10-110, number of bins 11\n",
    "● Max_features: auto, sqrt\n",
    "● Min_samples_split: 2,5,10\n",
    "● Min_samples_leaf: 1,2,4\n",
    "● N_estimators: 200 – 2000, number of bins 10"
   ]
  },
  {
   "cell_type": "code",
   "execution_count": 282,
   "metadata": {},
   "outputs": [
    {
     "data": {
      "text/plain": [
       "{'ccp_alpha': 0.0,\n",
       " 'criterion': 'squared_error',\n",
       " 'max_depth': None,\n",
       " 'max_features': None,\n",
       " 'max_leaf_nodes': None,\n",
       " 'min_impurity_decrease': 0.0,\n",
       " 'min_samples_leaf': 1,\n",
       " 'min_samples_split': 2,\n",
       " 'min_weight_fraction_leaf': 0.0,\n",
       " 'random_state': 0,\n",
       " 'splitter': 'best'}"
      ]
     },
     "execution_count": 282,
     "metadata": {},
     "output_type": "execute_result"
    }
   ],
   "source": [
    "dt_reg.get_params()\n"
   ]
  },
  {
   "cell_type": "code",
   "execution_count": 295,
   "metadata": {},
   "outputs": [],
   "source": [
    "from sklearn.model_selection import RandomizedSearchCV\n",
    "params = {'max_depth' : list(range(10, 110, 11)), 'max_features' : ['auto', 'sqrt'], 'min_samples_split' : [2, 5, 10], 'min_samples_leaf' : [1, 2, 4] }\n",
    "\n",
    "random_search = RandomizedSearchCV(dt_reg, param_distributions=params, scoring = 'neg_mean_squared_error', n_iter =20 , cv = 3)\n",
    "\n",
    "model = random_search.fit(train_feature, train_target)"
   ]
  },
  {
   "cell_type": "code",
   "execution_count": 296,
   "metadata": {},
   "outputs": [
    {
     "name": "stdout",
     "output_type": "stream",
     "text": [
      "R2:  0.44804561555430966\n",
      "MSE  0.5486304369108358\n",
      "RMSE  0.7390506042610404\n"
     ]
    }
   ],
   "source": [
    "best_model = model.best_estimator_\n",
    "pred = best_model.predict(test_feature)\n",
    "scores = cross_validate(best_model, X, y, scoring=('r2', 'neg_mean_squared_error'), return_train_score=True)\n",
    "print('R2: ', np.mean(scores['train_r2']))\n",
    "print('MSE ', np.mean(-scores['train_neg_mean_squared_error']))\n",
    "print('RMSE ', np.mean(np.sqrt(-scores['train_neg_mean_squared_error']))) "
   ]
  }
 ],
 "metadata": {
  "interpreter": {
   "hash": "7224ddd6d4d833f0ee77afce79716601c0f0cc83aa584c3c92f13817b6e91d42"
  },
  "kernelspec": {
   "display_name": "Python 3.9.10 64-bit (windows store)",
   "language": "python",
   "name": "python3"
  },
  "language_info": {
   "codemirror_mode": {
    "name": "ipython",
    "version": 3
   },
   "file_extension": ".py",
   "mimetype": "text/x-python",
   "name": "python",
   "nbconvert_exporter": "python",
   "pygments_lexer": "ipython3",
   "version": "3.9.10"
  },
  "orig_nbformat": 4
 },
 "nbformat": 4,
 "nbformat_minor": 2
}
